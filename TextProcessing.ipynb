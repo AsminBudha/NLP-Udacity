{
  "nbformat": 4,
  "nbformat_minor": 0,
  "metadata": {
    "colab": {
      "name": "TextProcessing.ipynb",
      "version": "0.3.2",
      "provenance": [],
      "include_colab_link": true
    },
    "kernelspec": {
      "name": "python3",
      "display_name": "Python 3"
    }
  },
  "cells": [
    {
      "cell_type": "markdown",
      "metadata": {
        "id": "view-in-github",
        "colab_type": "text"
      },
      "source": [
        "<a href=\"https://colab.research.google.com/github/AsminBudha/NLP-Udacity/blob/master/TextProcessing.ipynb\" target=\"_parent\"><img src=\"https://colab.research.google.com/assets/colab-badge.svg\" alt=\"Open In Colab\"/></a>"
      ]
    },
    {
      "metadata": {
        "id": "ow4FpckInIrO",
        "colab_type": "text"
      },
      "cell_type": "markdown",
      "source": [
        "**Cloning Git Repo from Udacity**"
      ]
    },
    {
      "metadata": {
        "id": "E3tsU9N9fsFk",
        "colab_type": "code",
        "outputId": "82afaaa6-245f-460c-9ea3-a3ff9a50e631",
        "colab": {
          "base_uri": "https://localhost:8080/",
          "height": 125
        }
      },
      "cell_type": "code",
      "source": [
        "!git clone https://github.com/udacity/AIND-NLP.git"
      ],
      "execution_count": 0,
      "outputs": [
        {
          "output_type": "stream",
          "text": [
            "Cloning into 'AIND-NLP'...\n",
            "remote: Enumerating objects: 49716, done.\u001b[K\n",
            "remote: Total 49716 (delta 0), reused 0 (delta 0), pack-reused 49716\u001b[K\n",
            "Receiving objects: 100% (49716/49716), 81.15 MiB | 15.69 MiB/s, done.\n",
            "Resolving deltas: 100% (10/10), done.\n",
            "Checking out files: 100% (50095/50095), done.\n"
          ],
          "name": "stdout"
        }
      ]
    },
    {
      "metadata": {
        "id": "e2Kq24W4nS7n",
        "colab_type": "text"
      },
      "cell_type": "markdown",
      "source": [
        "**Read Plain Text**"
      ]
    },
    {
      "metadata": {
        "id": "YjZhLYCKgLb3",
        "colab_type": "code",
        "outputId": "855a26ee-33d8-4da9-afff-c99a3c3f5a28",
        "colab": {
          "base_uri": "https://localhost:8080/",
          "height": 73
        }
      },
      "cell_type": "code",
      "source": [
        "import os\n",
        "\n",
        "with open(os.path.join('AIND-NLP','data',\"hieroglyph.txt\"),'r') as f:\n",
        "  text=f.read()\n",
        "  print(text)"
      ],
      "execution_count": 0,
      "outputs": [
        {
          "output_type": "stream",
          "text": [
            "Hieroglyphic writing dates from c. 3000 BC, and is composed of hundreds of symbols. A hieroglyph can represent a word, a sound, or a silent determinative; and the same symbol can serve different purposes in different contexts. Hieroglyphs were a formal script, used on stone monuments and in tombs, that could be as detailed as individual works of art.\n",
            "\n"
          ],
          "name": "stdout"
        }
      ]
    },
    {
      "metadata": {
        "id": "mrMoq9q1nZAn",
        "colab_type": "text"
      },
      "cell_type": "markdown",
      "source": [
        "**Read CSV file using Panda**"
      ]
    },
    {
      "metadata": {
        "id": "3_rDxyiXjcNX",
        "colab_type": "code",
        "outputId": "fd196fbb-25c8-4c45-fc6c-b0243d17f5ea",
        "colab": {
          "base_uri": "https://localhost:8080/",
          "height": 204
        }
      },
      "cell_type": "code",
      "source": [
        "import pandas as pd\n",
        "\n",
        "df=pd.read_csv(os.path.join('AIND-NLP','data',\"news.csv\"))\n",
        "df.head()[['publisher', 'title']]\n",
        "\n",
        "\n",
        "df['title']=df['title'].str.lower();\n",
        "df.head()[['publisher','title']]"
      ],
      "execution_count": 0,
      "outputs": [
        {
          "output_type": "execute_result",
          "data": {
            "text/html": [
              "<div>\n",
              "<style scoped>\n",
              "    .dataframe tbody tr th:only-of-type {\n",
              "        vertical-align: middle;\n",
              "    }\n",
              "\n",
              "    .dataframe tbody tr th {\n",
              "        vertical-align: top;\n",
              "    }\n",
              "\n",
              "    .dataframe thead th {\n",
              "        text-align: right;\n",
              "    }\n",
              "</style>\n",
              "<table border=\"1\" class=\"dataframe\">\n",
              "  <thead>\n",
              "    <tr style=\"text-align: right;\">\n",
              "      <th></th>\n",
              "      <th>publisher</th>\n",
              "      <th>title</th>\n",
              "    </tr>\n",
              "  </thead>\n",
              "  <tbody>\n",
              "    <tr>\n",
              "      <th>0</th>\n",
              "      <td>Livemint</td>\n",
              "      <td>fed's charles plosser sees high bar for change...</td>\n",
              "    </tr>\n",
              "    <tr>\n",
              "      <th>1</th>\n",
              "      <td>IFA Magazine</td>\n",
              "      <td>us open: stocks fall after fed official hints ...</td>\n",
              "    </tr>\n",
              "    <tr>\n",
              "      <th>2</th>\n",
              "      <td>IFA Magazine</td>\n",
              "      <td>fed risks falling 'behind the curve', charles ...</td>\n",
              "    </tr>\n",
              "    <tr>\n",
              "      <th>3</th>\n",
              "      <td>Moneynews</td>\n",
              "      <td>fed's plosser: nasty weather has curbed job gr...</td>\n",
              "    </tr>\n",
              "    <tr>\n",
              "      <th>4</th>\n",
              "      <td>NASDAQ</td>\n",
              "      <td>plosser: fed may have to accelerate tapering pace</td>\n",
              "    </tr>\n",
              "  </tbody>\n",
              "</table>\n",
              "</div>"
            ],
            "text/plain": [
              "      publisher                                              title\n",
              "0      Livemint  fed's charles plosser sees high bar for change...\n",
              "1  IFA Magazine  us open: stocks fall after fed official hints ...\n",
              "2  IFA Magazine  fed risks falling 'behind the curve', charles ...\n",
              "3     Moneynews  fed's plosser: nasty weather has curbed job gr...\n",
              "4        NASDAQ  plosser: fed may have to accelerate tapering pace"
            ]
          },
          "metadata": {
            "tags": []
          },
          "execution_count": 16
        }
      ]
    },
    {
      "metadata": {
        "id": "VJUMSENoqoyV",
        "colab_type": "text"
      },
      "cell_type": "markdown",
      "source": [
        "**Read response from API**"
      ]
    },
    {
      "metadata": {
        "id": "7lIzf57FkhmT",
        "colab_type": "code",
        "outputId": "897c8773-2e26-4458-8f7f-9e2e611e9216",
        "colab": {
          "base_uri": "https://localhost:8080/",
          "height": 485
        }
      },
      "cell_type": "code",
      "source": [
        "import requests\n",
        "import json\n",
        "\n",
        "r=requests.get(\"https://quotes.rest/qod.json\");\n",
        "\n",
        "res=r.json();\n",
        "\n",
        "print(json.dumps(res, indent=4))\n",
        "\n",
        "q=res['contents']['quotes'][0]\n",
        "print(q[\"quote\"], \"\\n--\", q[\"author\"])"
      ],
      "execution_count": 0,
      "outputs": [
        {
          "output_type": "stream",
          "text": [
            "{\n",
            "    \"success\": {\n",
            "        \"total\": 1\n",
            "    },\n",
            "    \"contents\": {\n",
            "        \"quotes\": [\n",
            "            {\n",
            "                \"quote\": \"Luck is a dividend of sweat. The more you sweat, the luckier you get\",\n",
            "                \"author\": \"Ray Kroc\",\n",
            "                \"length\": \"68\",\n",
            "                \"tags\": [\n",
            "                    \"hard-work\",\n",
            "                    \"inspire\",\n",
            "                    \"luck\"\n",
            "                ],\n",
            "                \"category\": \"inspire\",\n",
            "                \"title\": \"Inspiring Quote of the day\",\n",
            "                \"date\": \"2019-04-03\",\n",
            "                \"id\": null\n",
            "            }\n",
            "        ],\n",
            "        \"copyright\": \"2017-19 theysaidso.com\"\n",
            "    }\n",
            "}\n",
            "Luck is a dividend of sweat. The more you sweat, the luckier you get \n",
            "-- Ray Kroc\n"
          ],
          "name": "stdout"
        }
      ]
    },
    {
      "metadata": {
        "id": "fuVnEBYCR0Gi",
        "colab_type": "text"
      },
      "cell_type": "markdown",
      "source": [
        "**Cleaning**"
      ]
    },
    {
      "metadata": {
        "id": "xg-lRm-cmXBm",
        "colab_type": "code",
        "outputId": "8109651d-14f7-4711-bd39-633c95712824",
        "colab": {
          "base_uri": "https://localhost:8080/",
          "height": 2719
        }
      },
      "cell_type": "code",
      "source": [
        "import requests\n",
        "\n",
        "# Fetch a web page\n",
        "r=requests.get('https://news.ycombinator.com');\n",
        "print(r.text)"
      ],
      "execution_count": 0,
      "outputs": [
        {
          "output_type": "stream",
          "text": [
            "<html op=\"news\"><head><meta name=\"referrer\" content=\"origin\"><meta name=\"viewport\" content=\"width=device-width, initial-scale=1.0\"><link rel=\"stylesheet\" type=\"text/css\" href=\"news.css?IvtEVYG2A2qMWYTbNvpP\">\n",
            "            <link rel=\"shortcut icon\" href=\"favicon.ico\">\n",
            "          <link rel=\"alternate\" type=\"application/rss+xml\" title=\"RSS\" href=\"rss\">\n",
            "        <title>Hacker News</title></head><body><center><table id=\"hnmain\" border=\"0\" cellpadding=\"0\" cellspacing=\"0\" width=\"85%\" bgcolor=\"#f6f6ef\">\n",
            "        <tr><td bgcolor=\"#ff6600\"><table border=\"0\" cellpadding=\"0\" cellspacing=\"0\" width=\"100%\" style=\"padding:2px\"><tr><td style=\"width:18px;padding-right:4px\"><a href=\"https://news.ycombinator.com\"><img src=\"y18.gif\" width=\"18\" height=\"18\" style=\"border:1px white solid;\"></a></td>\n",
            "                  <td style=\"line-height:12pt; height:10px;\"><span class=\"pagetop\"><b class=\"hnname\"><a href=\"news\">Hacker News</a></b>\n",
            "              <a href=\"newest\">new</a> | <a href=\"front\">past</a> | <a href=\"newcomments\">comments</a> | <a href=\"ask\">ask</a> | <a href=\"show\">show</a> | <a href=\"jobs\">jobs</a> | <a href=\"submit\">submit</a>            </span></td><td style=\"text-align:right;padding-right:4px;\"><span class=\"pagetop\">\n",
            "                              <a href=\"login?goto=news\">login</a>\n",
            "                          </span></td>\n",
            "              </tr></table></td></tr>\n",
            "<tr id=\"pagespace\" title=\"\" style=\"height:10px\"></tr><tr><td><table border=\"0\" cellpadding=\"0\" cellspacing=\"0\" class=\"itemlist\">\n",
            "              <tr class='athing' id='19560515'>\n",
            "      <td align=\"right\" valign=\"top\" class=\"title\"><span class=\"rank\">1.</span></td>      <td valign=\"top\" class=\"votelinks\"><center><a id='up_19560515' href='vote?id=19560515&amp;how=up&amp;goto=news'><div class='votearrow' title='upvote'></div></a></center></td><td class=\"title\"><a href=\"https://www.forbes.com/sites/alexkonrad/2019/04/02/andreessen-horowitz-is-blowing-up-the-venture-capital-model-again/\" class=\"storylink\">A16Z is registering as a financial advisor, renouncing its status as a VC</a><span class=\"sitebit comhead\"> (<a href=\"from?site=forbes.com\"><span class=\"sitestr\">forbes.com</span></a>)</span></td></tr><tr><td colspan=\"2\"></td><td class=\"subtext\">\n",
            "        <span class=\"score\" id=\"score_19560515\">215 points</span> by <a href=\"user?id=zt\" class=\"hnuser\">zt</a> <span class=\"age\"><a href=\"item?id=19560515\">8 hours ago</a></span> <span id=\"unv_19560515\"></span> | <a href=\"hide?id=19560515&amp;goto=news\">hide</a> | <a href=\"item?id=19560515\">185&nbsp;comments</a>              </td></tr>\n",
            "      <tr class=\"spacer\" style=\"height:5px\"></tr>\n",
            "                <tr class='athing' id='19559617'>\n",
            "      <td align=\"right\" valign=\"top\" class=\"title\"><span class=\"rank\">2.</span></td>      <td valign=\"top\" class=\"votelinks\"><center><a id='up_19559617' href='vote?id=19559617&amp;how=up&amp;goto=news'><div class='votearrow' title='upvote'></div></a></center></td><td class=\"title\"><a href=\"https://www.thedailybeast.com/beyond-sketchy-facebook-demanding-some-new-users-email-passwords\" class=\"storylink\">Facebook Asking for Some New Users' Email Passwords</a><span class=\"sitebit comhead\"> (<a href=\"from?site=thedailybeast.com\"><span class=\"sitestr\">thedailybeast.com</span></a>)</span></td></tr><tr><td colspan=\"2\"></td><td class=\"subtext\">\n",
            "        <span class=\"score\" id=\"score_19559617\">388 points</span> by <a href=\"user?id=sharkweek\" class=\"hnuser\">sharkweek</a> <span class=\"age\"><a href=\"item?id=19559617\">10 hours ago</a></span> <span id=\"unv_19559617\"></span> | <a href=\"hide?id=19559617&amp;goto=news\">hide</a> | <a href=\"item?id=19559617\">200&nbsp;comments</a>              </td></tr>\n",
            "      <tr class=\"spacer\" style=\"height:5px\"></tr>\n",
            "                <tr class='athing' id='19557848'>\n",
            "      <td align=\"right\" valign=\"top\" class=\"title\"><span class=\"rank\">3.</span></td>      <td valign=\"top\" class=\"votelinks\"><center><a id='up_19557848' href='vote?id=19557848&amp;how=up&amp;goto=news'><div class='votearrow' title='upvote'></div></a></center></td><td class=\"title\"><a href=\"https://www.citylab.com/transportation/2019/04/europe-night-train-sweden-eco-travel-sleeper-car-fossil-free/586228/\" class=\"storylink\">Sweden Wants to Revive Europe’s Overnight Trains</a><span class=\"sitebit comhead\"> (<a href=\"from?site=citylab.com\"><span class=\"sitestr\">citylab.com</span></a>)</span></td></tr><tr><td colspan=\"2\"></td><td class=\"subtext\">\n",
            "        <span class=\"score\" id=\"score_19557848\">517 points</span> by <a href=\"user?id=aaronbrethorst\" class=\"hnuser\">aaronbrethorst</a> <span class=\"age\"><a href=\"item?id=19557848\">15 hours ago</a></span> <span id=\"unv_19557848\"></span> | <a href=\"hide?id=19557848&amp;goto=news\">hide</a> | <a href=\"item?id=19557848\">216&nbsp;comments</a>              </td></tr>\n",
            "      <tr class=\"spacer\" style=\"height:5px\"></tr>\n",
            "                <tr class='athing' id='19561242'>\n",
            "      <td align=\"right\" valign=\"top\" class=\"title\"><span class=\"rank\">4.</span></td>      <td valign=\"top\" class=\"votelinks\"><center><a id='up_19561242' href='vote?id=19561242&amp;how=up&amp;goto=news'><div class='votearrow' title='upvote'></div></a></center></td><td class=\"title\"><a href=\"http://lighttable.com/2019/03/31/New-year-old-plans/\" class=\"storylink\">New year, same old plans</a><span class=\"sitebit comhead\"> (<a href=\"from?site=lighttable.com\"><span class=\"sitestr\">lighttable.com</span></a>)</span></td></tr><tr><td colspan=\"2\"></td><td class=\"subtext\">\n",
            "        <span class=\"score\" id=\"score_19561242\">62 points</span> by <a href=\"user?id=harperlee\" class=\"hnuser\">harperlee</a> <span class=\"age\"><a href=\"item?id=19561242\">5 hours ago</a></span> <span id=\"unv_19561242\"></span> | <a href=\"hide?id=19561242&amp;goto=news\">hide</a> | <a href=\"item?id=19561242\">19&nbsp;comments</a>              </td></tr>\n",
            "      <tr class=\"spacer\" style=\"height:5px\"></tr>\n",
            "                <tr class='athing' id='19560479'>\n",
            "      <td align=\"right\" valign=\"top\" class=\"title\"><span class=\"rank\">5.</span></td>      <td valign=\"top\" class=\"votelinks\"><center><a id='up_19560479' href='vote?id=19560479&amp;how=up&amp;goto=news'><div class='votearrow' title='upvote'></div></a></center></td><td class=\"title\"><a href=\"https://metaredux.com/posts/2019/04/02/ruby-s-creed.html\" class=\"storylink\">Ruby's Creed</a><span class=\"sitebit comhead\"> (<a href=\"from?site=metaredux.com\"><span class=\"sitestr\">metaredux.com</span></a>)</span></td></tr><tr><td colspan=\"2\"></td><td class=\"subtext\">\n",
            "        <span class=\"score\" id=\"score_19560479\">132 points</span> by <a href=\"user?id=rlue\" class=\"hnuser\">rlue</a> <span class=\"age\"><a href=\"item?id=19560479\">8 hours ago</a></span> <span id=\"unv_19560479\"></span> | <a href=\"hide?id=19560479&amp;goto=news\">hide</a> | <a href=\"item?id=19560479\">55&nbsp;comments</a>              </td></tr>\n",
            "      <tr class=\"spacer\" style=\"height:5px\"></tr>\n",
            "                <tr class='athing' id='19561585'>\n",
            "      <td align=\"right\" valign=\"top\" class=\"title\"><span class=\"rank\">6.</span></td>      <td valign=\"top\" class=\"votelinks\"><center><a id='up_19561585' href='vote?id=19561585&amp;how=up&amp;goto=news'><div class='votearrow' title='upvote'></div></a></center></td><td class=\"title\"><a href=\"https://www.talkshow.team\" class=\"storylink\">Show HN: Talkshow – Team videos in non-real-time</a><span class=\"sitebit comhead\"> (<a href=\"from?site=talkshow.team\"><span class=\"sitestr\">talkshow.team</span></a>)</span></td></tr><tr><td colspan=\"2\"></td><td class=\"subtext\">\n",
            "        <span class=\"score\" id=\"score_19561585\">46 points</span> by <a href=\"user?id=middle1\" class=\"hnuser\">middle1</a> <span class=\"age\"><a href=\"item?id=19561585\">3 hours ago</a></span> <span id=\"unv_19561585\"></span> | <a href=\"hide?id=19561585&amp;goto=news\">hide</a> | <a href=\"item?id=19561585\">25&nbsp;comments</a>              </td></tr>\n",
            "      <tr class=\"spacer\" style=\"height:5px\"></tr>\n",
            "                <tr class='athing' id='19559970'>\n",
            "      <td align=\"right\" valign=\"top\" class=\"title\"><span class=\"rank\">7.</span></td>      <td valign=\"top\" class=\"votelinks\"><center><a id='up_19559970' href='vote?id=19559970&amp;how=up&amp;goto=news'><div class='votearrow' title='upvote'></div></a></center></td><td class=\"title\"><a href=\"https://www.linuxjournal.com/content/25-years-later-interview-linus-torvalds\" class=\"storylink\">25 Years Later: Interview with Linus Torvalds</a><span class=\"sitebit comhead\"> (<a href=\"from?site=linuxjournal.com\"><span class=\"sitestr\">linuxjournal.com</span></a>)</span></td></tr><tr><td colspan=\"2\"></td><td class=\"subtext\">\n",
            "        <span class=\"score\" id=\"score_19559970\">173 points</span> by <a href=\"user?id=axiomdata316\" class=\"hnuser\">axiomdata316</a> <span class=\"age\"><a href=\"item?id=19559970\">10 hours ago</a></span> <span id=\"unv_19559970\"></span> | <a href=\"hide?id=19559970&amp;goto=news\">hide</a> | <a href=\"item?id=19559970\">86&nbsp;comments</a>              </td></tr>\n",
            "      <tr class=\"spacer\" style=\"height:5px\"></tr>\n",
            "                <tr class='athing' id='19558118'>\n",
            "      <td align=\"right\" valign=\"top\" class=\"title\"><span class=\"rank\">8.</span></td>      <td valign=\"top\" class=\"votelinks\"><center><a id='up_19558118' href='vote?id=19558118&amp;how=up&amp;goto=news'><div class='votearrow' title='upvote'></div></a></center></td><td class=\"title\"><a href=\"https://engineuring.wordpress.com/2019/03/31/sci-hub-and-alexandra-basic-information/\" class=\"storylink\">Sci-Hub and Alexandra Basic Information</a><span class=\"sitebit comhead\"> (<a href=\"from?site=engineuring.wordpress.com\"><span class=\"sitestr\">engineuring.wordpress.com</span></a>)</span></td></tr><tr><td colspan=\"2\"></td><td class=\"subtext\">\n",
            "        <span class=\"score\" id=\"score_19558118\">345 points</span> by <a href=\"user?id=stared\" class=\"hnuser\">stared</a> <span class=\"age\"><a href=\"item?id=19558118\">15 hours ago</a></span> <span id=\"unv_19558118\"></span> | <a href=\"hide?id=19558118&amp;goto=news\">hide</a> | <a href=\"item?id=19558118\">96&nbsp;comments</a>              </td></tr>\n",
            "      <tr class=\"spacer\" style=\"height:5px\"></tr>\n",
            "                <tr class='athing' id='19559361'>\n",
            "      <td align=\"right\" valign=\"top\" class=\"title\"><span class=\"rank\">9.</span></td>      <td valign=\"top\" class=\"votelinks\"><center><a id='up_19559361' href='vote?id=19559361&amp;how=up&amp;goto=news'><div class='votearrow' title='upvote'></div></a></center></td><td class=\"title\"><a href=\"https://www.loc.gov/item/prn-19-036/\" class=\"storylink\">Rare Persian manuscripts dating back to 13th century now online</a><span class=\"sitebit comhead\"> (<a href=\"from?site=loc.gov\"><span class=\"sitestr\">loc.gov</span></a>)</span></td></tr><tr><td colspan=\"2\"></td><td class=\"subtext\">\n",
            "        <span class=\"score\" id=\"score_19559361\">185 points</span> by <a href=\"user?id=bookofjoe\" class=\"hnuser\">bookofjoe</a> <span class=\"age\"><a href=\"item?id=19559361\">12 hours ago</a></span> <span id=\"unv_19559361\"></span> | <a href=\"hide?id=19559361&amp;goto=news\">hide</a> | <a href=\"item?id=19559361\">37&nbsp;comments</a>              </td></tr>\n",
            "      <tr class=\"spacer\" style=\"height:5px\"></tr>\n",
            "                <tr class='athing' id='19542567'>\n",
            "      <td align=\"right\" valign=\"top\" class=\"title\"><span class=\"rank\">10.</span></td>      <td valign=\"top\" class=\"votelinks\"><center><a id='up_19542567' href='vote?id=19542567&amp;how=up&amp;goto=news'><div class='votearrow' title='upvote'></div></a></center></td><td class=\"title\"><a href=\"https://www.datafix.com.au/BASHing/2019-03-31.html\" class=\"storylink\">Dog and Cat Data</a><span class=\"sitebit comhead\"> (<a href=\"from?site=datafix.com.au\"><span class=\"sitestr\">datafix.com.au</span></a>)</span></td></tr><tr><td colspan=\"2\"></td><td class=\"subtext\">\n",
            "        <span class=\"score\" id=\"score_19542567\">6 points</span> by <a href=\"user?id=eaguyhn\" class=\"hnuser\">eaguyhn</a> <span class=\"age\"><a href=\"item?id=19542567\">2 hours ago</a></span> <span id=\"unv_19542567\"></span> | <a href=\"hide?id=19542567&amp;goto=news\">hide</a> | <a href=\"item?id=19542567\">discuss</a>              </td></tr>\n",
            "      <tr class=\"spacer\" style=\"height:5px\"></tr>\n",
            "                <tr class='athing' id='19560046'>\n",
            "      <td align=\"right\" valign=\"top\" class=\"title\"><span class=\"rank\">11.</span></td>      <td valign=\"top\" class=\"votelinks\"><center><a id='up_19560046' href='vote?id=19560046&amp;how=up&amp;goto=news'><div class='votearrow' title='upvote'></div></a></center></td><td class=\"title\"><a href=\"https://blog.filippo.io/a-literate-go-implementation-of-poly1305/\" class=\"storylink\">A Go implementation of Poly1305 that makes sense</a><span class=\"sitebit comhead\"> (<a href=\"from?site=filippo.io\"><span class=\"sitestr\">filippo.io</span></a>)</span></td></tr><tr><td colspan=\"2\"></td><td class=\"subtext\">\n",
            "        <span class=\"score\" id=\"score_19560046\">135 points</span> by <a href=\"user?id=pentestercrab\" class=\"hnuser\">pentestercrab</a> <span class=\"age\"><a href=\"item?id=19560046\">10 hours ago</a></span> <span id=\"unv_19560046\"></span> | <a href=\"hide?id=19560046&amp;goto=news\">hide</a> | <a href=\"item?id=19560046\">7&nbsp;comments</a>              </td></tr>\n",
            "      <tr class=\"spacer\" style=\"height:5px\"></tr>\n",
            "                <tr class='athing' id='19558482'>\n",
            "      <td align=\"right\" valign=\"top\" class=\"title\"><span class=\"rank\">12.</span></td>      <td valign=\"top\" class=\"votelinks\"><center><a id='up_19558482' href='vote?id=19558482&amp;how=up&amp;goto=news'><div class='votearrow' title='upvote'></div></a></center></td><td class=\"title\"><a href=\"http://setosa.io/bus/\" class=\"storylink\">Why Do Buses Bunch?</a><span class=\"sitebit comhead\"> (<a href=\"from?site=setosa.io\"><span class=\"sitestr\">setosa.io</span></a>)</span></td></tr><tr><td colspan=\"2\"></td><td class=\"subtext\">\n",
            "        <span class=\"score\" id=\"score_19558482\">256 points</span> by <a href=\"user?id=elliekelly\" class=\"hnuser\">elliekelly</a> <span class=\"age\"><a href=\"item?id=19558482\">14 hours ago</a></span> <span id=\"unv_19558482\"></span> | <a href=\"hide?id=19558482&amp;goto=news\">hide</a> | <a href=\"item?id=19558482\">129&nbsp;comments</a>              </td></tr>\n",
            "      <tr class=\"spacer\" style=\"height:5px\"></tr>\n",
            "                <tr class='athing' id='19557169'>\n",
            "      <td align=\"right\" valign=\"top\" class=\"title\"><span class=\"rank\">13.</span></td>      <td valign=\"top\" class=\"votelinks\"><center><a id='up_19557169' href='vote?id=19557169&amp;how=up&amp;goto=news'><div class='votearrow' title='upvote'></div></a></center></td><td class=\"title\"><a href=\"https://pjreddie.com/darknet/yolo/\" class=\"storylink\">YOLO: Real-Time Object Detection</a><span class=\"sitebit comhead\"> (<a href=\"from?site=pjreddie.com\"><span class=\"sitestr\">pjreddie.com</span></a>)</span></td></tr><tr><td colspan=\"2\"></td><td class=\"subtext\">\n",
            "        <span class=\"score\" id=\"score_19557169\">278 points</span> by <a href=\"user?id=headalgorithm\" class=\"hnuser\">headalgorithm</a> <span class=\"age\"><a href=\"item?id=19557169\">17 hours ago</a></span> <span id=\"unv_19557169\"></span> | <a href=\"hide?id=19557169&amp;goto=news\">hide</a> | <a href=\"item?id=19557169\">52&nbsp;comments</a>              </td></tr>\n",
            "      <tr class=\"spacer\" style=\"height:5px\"></tr>\n",
            "                <tr class='athing' id='19555077'>\n",
            "      <td align=\"right\" valign=\"top\" class=\"title\"><span class=\"rank\">14.</span></td>      <td valign=\"top\" class=\"votelinks\"><center><a id='up_19555077' href='vote?id=19555077&amp;how=up&amp;goto=news'><div class='votearrow' title='upvote'></div></a></center></td><td class=\"title\"><a href=\"https://segment.com/blog/show-hn-to-series-d/\" class=\"storylink\">From Show HN to Series D</a><span class=\"sitebit comhead\"> (<a href=\"from?site=segment.com\"><span class=\"sitestr\">segment.com</span></a>)</span></td></tr><tr><td colspan=\"2\"></td><td class=\"subtext\">\n",
            "        <span class=\"score\" id=\"score_19555077\">332 points</span> by <a href=\"user?id=fullung\" class=\"hnuser\">fullung</a> <span class=\"age\"><a href=\"item?id=19555077\">18 hours ago</a></span> <span id=\"unv_19555077\"></span> | <a href=\"hide?id=19555077&amp;goto=news\">hide</a> | <a href=\"item?id=19555077\">47&nbsp;comments</a>              </td></tr>\n",
            "      <tr class=\"spacer\" style=\"height:5px\"></tr>\n",
            "                <tr class='athing' id='19552286'>\n",
            "      <td align=\"right\" valign=\"top\" class=\"title\"><span class=\"rank\">15.</span></td>      <td valign=\"top\" class=\"votelinks\"><center><a id='up_19552286' href='vote?id=19552286&amp;how=up&amp;goto=news'><div class='votearrow' title='upvote'></div></a></center></td><td class=\"title\"><a href=\"https://en.chessbase.com/post/monte-carlo-instead-of-alpha-beta\" class=\"storylink\">Monte Carlo instead of Alpha-Beta for chess programs?</a><span class=\"sitebit comhead\"> (<a href=\"from?site=chessbase.com\"><span class=\"sitestr\">chessbase.com</span></a>)</span></td></tr><tr><td colspan=\"2\"></td><td class=\"subtext\">\n",
            "        <span class=\"score\" id=\"score_19552286\">52 points</span> by <a href=\"user?id=S4M\" class=\"hnuser\">S4M</a> <span class=\"age\"><a href=\"item?id=19552286\">8 hours ago</a></span> <span id=\"unv_19552286\"></span> | <a href=\"hide?id=19552286&amp;goto=news\">hide</a> | <a href=\"item?id=19552286\">10&nbsp;comments</a>              </td></tr>\n",
            "      <tr class=\"spacer\" style=\"height:5px\"></tr>\n",
            "                <tr class='athing' id='19553941'>\n",
            "      <td align=\"right\" valign=\"top\" class=\"title\"><span class=\"rank\">16.</span></td>      <td valign=\"top\" class=\"votelinks\"><center><a id='up_19553941' href='vote?id=19553941&amp;how=up&amp;goto=news'><div class='votearrow' title='upvote'></div></a></center></td><td class=\"title\"><a href=\"https://blog.samuelmaddock.com/posts/google-widevine-blocked-my-browser/\" class=\"storylink\">I tried creating a web browser, and Google blocked me</a><span class=\"sitebit comhead\"> (<a href=\"from?site=samuelmaddock.com\"><span class=\"sitestr\">samuelmaddock.com</span></a>)</span></td></tr><tr><td colspan=\"2\"></td><td class=\"subtext\">\n",
            "        <span class=\"score\" id=\"score_19553941\">1704 points</span> by <a href=\"user?id=smaddock\" class=\"hnuser\">smaddock</a> <span class=\"age\"><a href=\"item?id=19553941\">21 hours ago</a></span> <span id=\"unv_19553941\"></span> | <a href=\"hide?id=19553941&amp;goto=news\">hide</a> | <a href=\"item?id=19553941\">541&nbsp;comments</a>              </td></tr>\n",
            "      <tr class=\"spacer\" style=\"height:5px\"></tr>\n",
            "                <tr class='athing' id='19550713'>\n",
            "      <td align=\"right\" valign=\"top\" class=\"title\"><span class=\"rank\">17.</span></td>      <td valign=\"top\" class=\"votelinks\"><center><a id='up_19550713' href='vote?id=19550713&amp;how=up&amp;goto=news'><div class='votearrow' title='upvote'></div></a></center></td><td class=\"title\"><a href=\"http://pt.withington.org/publications/VLM.pdf\" class=\"storylink\">Symbolics Lisp: Using the DEC Alpha as a Programmable Micro-Engine (1993) [pdf]</a><span class=\"sitebit comhead\"> (<a href=\"from?site=withington.org\"><span class=\"sitestr\">withington.org</span></a>)</span></td></tr><tr><td colspan=\"2\"></td><td class=\"subtext\">\n",
            "        <span class=\"score\" id=\"score_19550713\">61 points</span> by <a href=\"user?id=kristianp\" class=\"hnuser\">kristianp</a> <span class=\"age\"><a href=\"item?id=19550713\">9 hours ago</a></span> <span id=\"unv_19550713\"></span> | <a href=\"hide?id=19550713&amp;goto=news\">hide</a> | <a href=\"item?id=19550713\">10&nbsp;comments</a>              </td></tr>\n",
            "      <tr class=\"spacer\" style=\"height:5px\"></tr>\n",
            "                <tr class='athing' id='19558661'>\n",
            "      <td align=\"right\" valign=\"top\" class=\"title\"><span class=\"rank\">18.</span></td>      <td valign=\"top\" class=\"votelinks\"><center><a id='up_19558661' href='vote?id=19558661&amp;how=up&amp;goto=news'><div class='votearrow' title='upvote'></div></a></center></td><td class=\"title\"><a href=\"https://simpl.fyi/gmail/\" class=\"storylink\">Simplify Gmail: Bringing the Simplicity of Google Inbox to Gmail</a><span class=\"sitebit comhead\"> (<a href=\"from?site=simpl.fyi\"><span class=\"sitestr\">simpl.fyi</span></a>)</span></td></tr><tr><td colspan=\"2\"></td><td class=\"subtext\">\n",
            "        <span class=\"score\" id=\"score_19558661\">165 points</span> by <a href=\"user?id=gmcabrita\" class=\"hnuser\">gmcabrita</a> <span class=\"age\"><a href=\"item?id=19558661\">14 hours ago</a></span> <span id=\"unv_19558661\"></span> | <a href=\"hide?id=19558661&amp;goto=news\">hide</a> | <a href=\"item?id=19558661\">57&nbsp;comments</a>              </td></tr>\n",
            "      <tr class=\"spacer\" style=\"height:5px\"></tr>\n",
            "                <tr class='athing' id='19548990'>\n",
            "      <td align=\"right\" valign=\"top\" class=\"title\"><span class=\"rank\">19.</span></td>      <td valign=\"top\" class=\"votelinks\"><center><a id='up_19548990' href='vote?id=19548990&amp;how=up&amp;goto=news'><div class='votearrow' title='upvote'></div></a></center></td><td class=\"title\"><a href=\"https://www.propublica.org/nerds/the-ticket-trap-news-app-front-to-back-david-eads-propublica-illinois\" class=\"storylink\" rel=\"nofollow\">The Ticket Trap: Front to Back</a><span class=\"sitebit comhead\"> (<a href=\"from?site=propublica.org\"><span class=\"sitestr\">propublica.org</span></a>)</span></td></tr><tr><td colspan=\"2\"></td><td class=\"subtext\">\n",
            "        <span class=\"score\" id=\"score_19548990\">16 points</span> by <a href=\"user?id=danso\" class=\"hnuser\">danso</a> <span class=\"age\"><a href=\"item?id=19548990\">2 hours ago</a></span> <span id=\"unv_19548990\"></span> | <a href=\"hide?id=19548990&amp;goto=news\">hide</a> | <a href=\"item?id=19548990\">1&nbsp;comment</a>              </td></tr>\n",
            "      <tr class=\"spacer\" style=\"height:5px\"></tr>\n",
            "                <tr class='athing' id='19552112'>\n",
            "      <td align=\"right\" valign=\"top\" class=\"title\"><span class=\"rank\">20.</span></td>      <td valign=\"top\" class=\"votelinks\"><center><a id='up_19552112' href='vote?id=19552112&amp;how=up&amp;goto=news'><div class='votearrow' title='upvote'></div></a></center></td><td class=\"title\"><a href=\"https://www.elastic.co/blog/averages-can-dangerous-use-percentile\" class=\"storylink\">Averages Can Be Misleading: Try a Percentile (2014)</a><span class=\"sitebit comhead\"> (<a href=\"from?site=elastic.co\"><span class=\"sitestr\">elastic.co</span></a>)</span></td></tr><tr><td colspan=\"2\"></td><td class=\"subtext\">\n",
            "        <span class=\"score\" id=\"score_19552112\">173 points</span> by <a href=\"user?id=donbox\" class=\"hnuser\">donbox</a> <span class=\"age\"><a href=\"item?id=19552112\">18 hours ago</a></span> <span id=\"unv_19552112\"></span> | <a href=\"hide?id=19552112&amp;goto=news\">hide</a> | <a href=\"item?id=19552112\">47&nbsp;comments</a>              </td></tr>\n",
            "      <tr class=\"spacer\" style=\"height:5px\"></tr>\n",
            "                <tr class='athing' id='19558030'>\n",
            "      <td align=\"right\" valign=\"top\" class=\"title\"><span class=\"rank\">21.</span></td>      <td valign=\"top\" class=\"votelinks\"><center><a id='up_19558030' href='vote?id=19558030&amp;how=up&amp;goto=news'><div class='votearrow' title='upvote'></div></a></center></td><td class=\"title\"><a href=\"https://jakearchibald.com/2019/f1-perf/\" class=\"storylink\">Who has the fastest website in F1?</a><span class=\"sitebit comhead\"> (<a href=\"from?site=jakearchibald.com\"><span class=\"sitestr\">jakearchibald.com</span></a>)</span></td></tr><tr><td colspan=\"2\"></td><td class=\"subtext\">\n",
            "        <span class=\"score\" id=\"score_19558030\">199 points</span> by <a href=\"user?id=anacleto\" class=\"hnuser\">anacleto</a> <span class=\"age\"><a href=\"item?id=19558030\">15 hours ago</a></span> <span id=\"unv_19558030\"></span> | <a href=\"hide?id=19558030&amp;goto=news\">hide</a> | <a href=\"item?id=19558030\">79&nbsp;comments</a>              </td></tr>\n",
            "      <tr class=\"spacer\" style=\"height:5px\"></tr>\n",
            "                <tr class='athing' id='19558999'>\n",
            "      <td align=\"right\" valign=\"top\" class=\"title\"><span class=\"rank\">22.</span></td>      <td valign=\"top\" class=\"votelinks\"><center><a id='up_19558999' href='vote?id=19558999&amp;how=up&amp;goto=news'><div class='votearrow' title='upvote'></div></a></center></td><td class=\"title\"><a href=\"https://www.cnn.com/travel/article/worlds-deepest-pool-scli-intl/index.html\" class=\"storylink\">World's deepest pool to open in Poland</a><span class=\"sitebit comhead\"> (<a href=\"from?site=cnn.com\"><span class=\"sitestr\">cnn.com</span></a>)</span></td></tr><tr><td colspan=\"2\"></td><td class=\"subtext\">\n",
            "        <span class=\"score\" id=\"score_19558999\">94 points</span> by <a href=\"user?id=HillaryBriss\" class=\"hnuser\">HillaryBriss</a> <span class=\"age\"><a href=\"item?id=19558999\">13 hours ago</a></span> <span id=\"unv_19558999\"></span> | <a href=\"hide?id=19558999&amp;goto=news\">hide</a> | <a href=\"item?id=19558999\">58&nbsp;comments</a>              </td></tr>\n",
            "      <tr class=\"spacer\" style=\"height:5px\"></tr>\n",
            "                <tr class='athing' id='19560182'>\n",
            "      <td align=\"right\" valign=\"top\" class=\"title\"><span class=\"rank\">23.</span></td>      <td valign=\"top\" class=\"votelinks\"><center><a id='up_19560182' href='vote?id=19560182&amp;how=up&amp;goto=news'><div class='votearrow' title='upvote'></div></a></center></td><td class=\"title\"><a href=\"http://imperialclub.com/Yr/1945/46Tanks/\" class=\"storylink\">Tanks Are Mighty Fine Things (1946)</a><span class=\"sitebit comhead\"> (<a href=\"from?site=imperialclub.com\"><span class=\"sitestr\">imperialclub.com</span></a>)</span></td></tr><tr><td colspan=\"2\"></td><td class=\"subtext\">\n",
            "        <span class=\"score\" id=\"score_19560182\">49 points</span> by <a href=\"user?id=smacktoward\" class=\"hnuser\">smacktoward</a> <span class=\"age\"><a href=\"item?id=19560182\">9 hours ago</a></span> <span id=\"unv_19560182\"></span> | <a href=\"hide?id=19560182&amp;goto=news\">hide</a> | <a href=\"item?id=19560182\">9&nbsp;comments</a>              </td></tr>\n",
            "      <tr class=\"spacer\" style=\"height:5px\"></tr>\n",
            "                <tr class='athing' id='19559634'>\n",
            "      <td align=\"right\" valign=\"top\" class=\"title\"><span class=\"rank\">24.</span></td>      <td valign=\"top\" class=\"votelinks\"><center><a id='up_19559634' href='vote?id=19559634&amp;how=up&amp;goto=news'><div class='votearrow' title='upvote'></div></a></center></td><td class=\"title\"><a href=\"https://www.theverge.com/2019/2/18/18225231/emoji-emoticon-court-case-reference\" class=\"storylink\">Emoji are showing up as evidence in court more frequently</a><span class=\"sitebit comhead\"> (<a href=\"from?site=theverge.com\"><span class=\"sitestr\">theverge.com</span></a>)</span></td></tr><tr><td colspan=\"2\"></td><td class=\"subtext\">\n",
            "        <span class=\"score\" id=\"score_19559634\">61 points</span> by <a href=\"user?id=nolawi89\" class=\"hnuser\">nolawi89</a> <span class=\"age\"><a href=\"item?id=19559634\">11 hours ago</a></span> <span id=\"unv_19559634\"></span> | <a href=\"hide?id=19559634&amp;goto=news\">hide</a> | <a href=\"item?id=19559634\">32&nbsp;comments</a>              </td></tr>\n",
            "      <tr class=\"spacer\" style=\"height:5px\"></tr>\n",
            "                <tr class='athing' id='19560140'>\n",
            "      <td align=\"right\" valign=\"top\" class=\"title\"><span class=\"rank\">25.</span></td>      <td valign=\"top\" class=\"votelinks\"><center><a id='up_19560140' href='vote?id=19560140&amp;how=up&amp;goto=news'><div class='votearrow' title='upvote'></div></a></center></td><td class=\"title\"><a href=\"https://github.com/stepleton/5100ExecutableROSDecode/blob/master/Executable_ROS_decode.ipynb\" class=\"storylink\">Decoding Photographs of the IBM 5100's Executable ROS</a><span class=\"sitebit comhead\"> (<a href=\"from?site=github.com\"><span class=\"sitestr\">github.com</span></a>)</span></td></tr><tr><td colspan=\"2\"></td><td class=\"subtext\">\n",
            "        <span class=\"score\" id=\"score_19560140\">25 points</span> by <a href=\"user?id=mmastrac\" class=\"hnuser\">mmastrac</a> <span class=\"age\"><a href=\"item?id=19560140\">7 hours ago</a></span> <span id=\"unv_19560140\"></span> | <a href=\"hide?id=19560140&amp;goto=news\">hide</a> | <a href=\"item?id=19560140\">6&nbsp;comments</a>              </td></tr>\n",
            "      <tr class=\"spacer\" style=\"height:5px\"></tr>\n",
            "                <tr class='athing' id='19556579'>\n",
            "      <td align=\"right\" valign=\"top\" class=\"title\"><span class=\"rank\">26.</span></td>      <td valign=\"top\" class=\"votelinks\"><center><a id='up_19556579' href='vote?id=19556579&amp;how=up&amp;goto=news'><div class='votearrow' title='upvote'></div></a></center></td><td class=\"title\"><a href=\"https://www.daily.co/blog/implementing-api-billing-with-stripe\" class=\"storylink\">Implementing API Billing with Stripe</a><span class=\"sitebit comhead\"> (<a href=\"from?site=daily.co\"><span class=\"sitestr\">daily.co</span></a>)</span></td></tr><tr><td colspan=\"2\"></td><td class=\"subtext\">\n",
            "        <span class=\"score\" id=\"score_19556579\">161 points</span> by <a href=\"user?id=kwindla\" class=\"hnuser\">kwindla</a> <span class=\"age\"><a href=\"item?id=19556579\">18 hours ago</a></span> <span id=\"unv_19556579\"></span> | <a href=\"hide?id=19556579&amp;goto=news\">hide</a> | <a href=\"item?id=19556579\">72&nbsp;comments</a>              </td></tr>\n",
            "      <tr class=\"spacer\" style=\"height:5px\"></tr>\n",
            "                <tr class='athing' id='19560962'>\n",
            "      <td align=\"right\" valign=\"top\" class=\"title\"><span class=\"rank\">27.</span></td>      <td valign=\"top\" class=\"votelinks\"><center><a id='up_19560962' href='vote?id=19560962&amp;how=up&amp;goto=news'><div class='votearrow' title='upvote'></div></a></center></td><td class=\"title\"><a href=\"https://utcc.utoronto.ca/~cks/space/blog/tech/NVMeAndTechChange\" class=\"storylink\">NVMe and an interesting technology change</a><span class=\"sitebit comhead\"> (<a href=\"from?site=utoronto.ca\"><span class=\"sitestr\">utoronto.ca</span></a>)</span></td></tr><tr><td colspan=\"2\"></td><td class=\"subtext\">\n",
            "        <span class=\"score\" id=\"score_19560962\">61 points</span> by <a href=\"user?id=stargrave\" class=\"hnuser\">stargrave</a> <span class=\"age\"><a href=\"item?id=19560962\">6 hours ago</a></span> <span id=\"unv_19560962\"></span> | <a href=\"hide?id=19560962&amp;goto=news\">hide</a> | <a href=\"item?id=19560962\">33&nbsp;comments</a>              </td></tr>\n",
            "      <tr class=\"spacer\" style=\"height:5px\"></tr>\n",
            "                <tr class='athing' id='19543571'>\n",
            "      <td align=\"right\" valign=\"top\" class=\"title\"><span class=\"rank\">28.</span></td>      <td valign=\"top\" class=\"votelinks\"><center><a id='up_19543571' href='vote?id=19543571&amp;how=up&amp;goto=news'><div class='votearrow' title='upvote'></div></a></center></td><td class=\"title\"><a href=\"https://www.scientificamerican.com/article/a-drug-shows-an-astonishing-ability-to-regenerate-damaged-hearts-and-other-body-parts/\" class=\"storylink\">A once abandoned drug compound shows an ability to rebuild organs</a><span class=\"sitebit comhead\"> (<a href=\"from?site=scientificamerican.com\"><span class=\"sitestr\">scientificamerican.com</span></a>)</span></td></tr><tr><td colspan=\"2\"></td><td class=\"subtext\">\n",
            "        <span class=\"score\" id=\"score_19543571\">119 points</span> by <a href=\"user?id=LinuxBender\" class=\"hnuser\">LinuxBender</a> <span class=\"age\"><a href=\"item?id=19543571\">16 hours ago</a></span> <span id=\"unv_19543571\"></span> | <a href=\"hide?id=19543571&amp;goto=news\">hide</a> | <a href=\"item?id=19543571\">48&nbsp;comments</a>              </td></tr>\n",
            "      <tr class=\"spacer\" style=\"height:5px\"></tr>\n",
            "                <tr class='athing' id='19551208'>\n",
            "      <td align=\"right\" valign=\"top\" class=\"title\"><span class=\"rank\">29.</span></td>      <td valign=\"top\" class=\"votelinks\"><center><a id='up_19551208' href='vote?id=19551208&amp;how=up&amp;goto=news'><div class='votearrow' title='upvote'></div></a></center></td><td class=\"title\"><a href=\"https://www.freep.com/in-depth/news/2019/03/26/john-sonny-franzese-colombo-crime-family-indianapolis/3139068002/\" class=\"storylink\">The Mobster in Our Midst</a><span class=\"sitebit comhead\"> (<a href=\"from?site=freep.com\"><span class=\"sitestr\">freep.com</span></a>)</span></td></tr><tr><td colspan=\"2\"></td><td class=\"subtext\">\n",
            "        <span class=\"score\" id=\"score_19551208\">19 points</span> by <a href=\"user?id=rmason\" class=\"hnuser\">rmason</a> <span class=\"age\"><a href=\"item?id=19551208\">7 hours ago</a></span> <span id=\"unv_19551208\"></span> | <a href=\"hide?id=19551208&amp;goto=news\">hide</a> | <a href=\"item?id=19551208\">4&nbsp;comments</a>              </td></tr>\n",
            "      <tr class=\"spacer\" style=\"height:5px\"></tr>\n",
            "                <tr class='athing' id='19560329'>\n",
            "      <td align=\"right\" valign=\"top\" class=\"title\"><span class=\"rank\">30.</span></td>      <td valign=\"top\" class=\"votelinks\"><center><a id='up_19560329' href='vote?id=19560329&amp;how=up&amp;goto=news'><div class='votearrow' title='upvote'></div></a></center></td><td class=\"title\"><a href=\"https://www.bbc.com/news/world-asia-india-47566542\" class=\"storylink\">Why India's rich don't give their money away</a><span class=\"sitebit comhead\"> (<a href=\"from?site=bbc.com\"><span class=\"sitestr\">bbc.com</span></a>)</span></td></tr><tr><td colspan=\"2\"></td><td class=\"subtext\">\n",
            "        <span class=\"score\" id=\"score_19560329\">123 points</span> by <a href=\"user?id=happy-go-lucky\" class=\"hnuser\">happy-go-lucky</a> <span class=\"age\"><a href=\"item?id=19560329\">9 hours ago</a></span> <span id=\"unv_19560329\"></span> | <a href=\"hide?id=19560329&amp;goto=news\">hide</a> | <a href=\"item?id=19560329\">46&nbsp;comments</a>              </td></tr>\n",
            "      <tr class=\"spacer\" style=\"height:5px\"></tr>\n",
            "            <tr class=\"morespace\" style=\"height:10px\"></tr><tr><td colspan=\"2\"></td><td class=\"title\"><a href=\"news?p=2\" class=\"morelink\" rel=\"next\">More</a></td></tr>\n",
            "  </table>\n",
            "</td></tr>\n",
            "<tr><td><img src=\"s.gif\" height=\"10\" width=\"0\"><table width=\"100%\" cellspacing=\"0\" cellpadding=\"1\"><tr><td bgcolor=\"#ff6600\"></td></tr></table><br><center><span class=\"yclinks\"><a href=\"newsguidelines.html\">Guidelines</a>\n",
            "        | <a href=\"newsfaq.html\">FAQ</a>\n",
            "        | <a href=\"mailto:hn@ycombinator.com\">Support</a>\n",
            "        | <a href=\"https://github.com/HackerNews/API\">API</a>\n",
            "        | <a href=\"security.html\">Security</a>\n",
            "        | <a href=\"lists\">Lists</a>\n",
            "        | <a href=\"bookmarklet.html\" rel=\"nofollow\">Bookmarklet</a>\n",
            "        | <a href=\"http://www.ycombinator.com/legal/\">Legal</a>\n",
            "        | <a href=\"http://www.ycombinator.com/apply/\">Apply to YC</a>\n",
            "        | <a href=\"mailto:hn@ycombinator.com\">Contact</a></span><br><br><form method=\"get\" action=\"//hn.algolia.com/\">Search:\n",
            "          <input type=\"text\" name=\"q\" value=\"\" size=\"17\" autocorrect=\"off\" spellcheck=\"false\" autocapitalize=\"off\" autocomplete=\"false\"></form>\n",
            "            </center></td></tr>\n",
            "      </table></center></body><script type='text/javascript' src='hn.js?IvtEVYG2A2qMWYTbNvpP'></script>\n",
            "  </html>\n",
            "\n"
          ],
          "name": "stdout"
        }
      ]
    },
    {
      "metadata": {
        "id": "nPQfabTLSug_",
        "colab_type": "code",
        "outputId": "fff2ebf8-135c-46ff-a9d3-a05ed8e4e078",
        "colab": {
          "base_uri": "https://localhost:8080/",
          "height": 2699
        }
      },
      "cell_type": "code",
      "source": [
        "import re\n",
        "\n",
        "# Remove HTML tags using RegEx\n",
        "pattern = re.compile(r'<.*?>')  # tags look like <...>\n",
        "print(pattern.sub('', r.text))  # replace them with blank"
      ],
      "execution_count": 0,
      "outputs": [
        {
          "output_type": "stream",
          "text": [
            "\n",
            "            \n",
            "          \n",
            "        Hacker News\n",
            "        \n",
            "                  Hacker News\n",
            "              new | past | comments | ask | show | jobs | submit            \n",
            "                              login\n",
            "                          \n",
            "              \n",
            "\n",
            "              \n",
            "      1.      A16Z is registering as a financial advisor, renouncing its status as a VC (forbes.com)\n",
            "        215 points by zt 8 hours ago  | hide | 185&nbsp;comments              \n",
            "      \n",
            "                \n",
            "      2.      Facebook Asking for Some New Users' Email Passwords (thedailybeast.com)\n",
            "        388 points by sharkweek 10 hours ago  | hide | 200&nbsp;comments              \n",
            "      \n",
            "                \n",
            "      3.      Sweden Wants to Revive Europe’s Overnight Trains (citylab.com)\n",
            "        517 points by aaronbrethorst 15 hours ago  | hide | 216&nbsp;comments              \n",
            "      \n",
            "                \n",
            "      4.      New year, same old plans (lighttable.com)\n",
            "        62 points by harperlee 5 hours ago  | hide | 19&nbsp;comments              \n",
            "      \n",
            "                \n",
            "      5.      Ruby's Creed (metaredux.com)\n",
            "        132 points by rlue 8 hours ago  | hide | 55&nbsp;comments              \n",
            "      \n",
            "                \n",
            "      6.      Show HN: Talkshow – Team videos in non-real-time (talkshow.team)\n",
            "        46 points by middle1 3 hours ago  | hide | 25&nbsp;comments              \n",
            "      \n",
            "                \n",
            "      7.      25 Years Later: Interview with Linus Torvalds (linuxjournal.com)\n",
            "        173 points by axiomdata316 10 hours ago  | hide | 86&nbsp;comments              \n",
            "      \n",
            "                \n",
            "      8.      Sci-Hub and Alexandra Basic Information (engineuring.wordpress.com)\n",
            "        345 points by stared 15 hours ago  | hide | 96&nbsp;comments              \n",
            "      \n",
            "                \n",
            "      9.      Rare Persian manuscripts dating back to 13th century now online (loc.gov)\n",
            "        185 points by bookofjoe 12 hours ago  | hide | 37&nbsp;comments              \n",
            "      \n",
            "                \n",
            "      10.      Dog and Cat Data (datafix.com.au)\n",
            "        6 points by eaguyhn 2 hours ago  | hide | discuss              \n",
            "      \n",
            "                \n",
            "      11.      A Go implementation of Poly1305 that makes sense (filippo.io)\n",
            "        135 points by pentestercrab 10 hours ago  | hide | 7&nbsp;comments              \n",
            "      \n",
            "                \n",
            "      12.      Why Do Buses Bunch? (setosa.io)\n",
            "        256 points by elliekelly 14 hours ago  | hide | 129&nbsp;comments              \n",
            "      \n",
            "                \n",
            "      13.      YOLO: Real-Time Object Detection (pjreddie.com)\n",
            "        278 points by headalgorithm 17 hours ago  | hide | 52&nbsp;comments              \n",
            "      \n",
            "                \n",
            "      14.      From Show HN to Series D (segment.com)\n",
            "        332 points by fullung 18 hours ago  | hide | 47&nbsp;comments              \n",
            "      \n",
            "                \n",
            "      15.      Monte Carlo instead of Alpha-Beta for chess programs? (chessbase.com)\n",
            "        52 points by S4M 8 hours ago  | hide | 10&nbsp;comments              \n",
            "      \n",
            "                \n",
            "      16.      I tried creating a web browser, and Google blocked me (samuelmaddock.com)\n",
            "        1704 points by smaddock 21 hours ago  | hide | 541&nbsp;comments              \n",
            "      \n",
            "                \n",
            "      17.      Symbolics Lisp: Using the DEC Alpha as a Programmable Micro-Engine (1993) [pdf] (withington.org)\n",
            "        61 points by kristianp 9 hours ago  | hide | 10&nbsp;comments              \n",
            "      \n",
            "                \n",
            "      18.      Simplify Gmail: Bringing the Simplicity of Google Inbox to Gmail (simpl.fyi)\n",
            "        165 points by gmcabrita 14 hours ago  | hide | 57&nbsp;comments              \n",
            "      \n",
            "                \n",
            "      19.      The Ticket Trap: Front to Back (propublica.org)\n",
            "        16 points by danso 2 hours ago  | hide | 1&nbsp;comment              \n",
            "      \n",
            "                \n",
            "      20.      Averages Can Be Misleading: Try a Percentile (2014) (elastic.co)\n",
            "        173 points by donbox 18 hours ago  | hide | 47&nbsp;comments              \n",
            "      \n",
            "                \n",
            "      21.      Who has the fastest website in F1? (jakearchibald.com)\n",
            "        199 points by anacleto 15 hours ago  | hide | 79&nbsp;comments              \n",
            "      \n",
            "                \n",
            "      22.      World's deepest pool to open in Poland (cnn.com)\n",
            "        94 points by HillaryBriss 13 hours ago  | hide | 58&nbsp;comments              \n",
            "      \n",
            "                \n",
            "      23.      Tanks Are Mighty Fine Things (1946) (imperialclub.com)\n",
            "        49 points by smacktoward 9 hours ago  | hide | 9&nbsp;comments              \n",
            "      \n",
            "                \n",
            "      24.      Emoji are showing up as evidence in court more frequently (theverge.com)\n",
            "        61 points by nolawi89 11 hours ago  | hide | 32&nbsp;comments              \n",
            "      \n",
            "                \n",
            "      25.      Decoding Photographs of the IBM 5100's Executable ROS (github.com)\n",
            "        25 points by mmastrac 7 hours ago  | hide | 6&nbsp;comments              \n",
            "      \n",
            "                \n",
            "      26.      Implementing API Billing with Stripe (daily.co)\n",
            "        161 points by kwindla 18 hours ago  | hide | 72&nbsp;comments              \n",
            "      \n",
            "                \n",
            "      27.      NVMe and an interesting technology change (utoronto.ca)\n",
            "        61 points by stargrave 6 hours ago  | hide | 33&nbsp;comments              \n",
            "      \n",
            "                \n",
            "      28.      A once abandoned drug compound shows an ability to rebuild organs (scientificamerican.com)\n",
            "        119 points by LinuxBender 16 hours ago  | hide | 48&nbsp;comments              \n",
            "      \n",
            "                \n",
            "      29.      The Mobster in Our Midst (freep.com)\n",
            "        19 points by rmason 7 hours ago  | hide | 4&nbsp;comments              \n",
            "      \n",
            "                \n",
            "      30.      Why India's rich don't give their money away (bbc.com)\n",
            "        123 points by happy-go-lucky 9 hours ago  | hide | 46&nbsp;comments              \n",
            "      \n",
            "            More\n",
            "  \n",
            "\n",
            "Guidelines\n",
            "        | FAQ\n",
            "        | Support\n",
            "        | API\n",
            "        | Security\n",
            "        | Lists\n",
            "        | Bookmarklet\n",
            "        | Legal\n",
            "        | Apply to YC\n",
            "        | ContactSearch:\n",
            "          \n",
            "            \n",
            "      \n",
            "  \n",
            "\n"
          ],
          "name": "stdout"
        }
      ]
    },
    {
      "metadata": {
        "id": "yvW0p5kpTVAe",
        "colab_type": "code",
        "outputId": "ab9f977a-3506-48f7-9204-ca1a67cd87f6",
        "colab": {
          "base_uri": "https://localhost:8080/",
          "height": 2699
        }
      },
      "cell_type": "code",
      "source": [
        "from bs4 import BeautifulSoup\n",
        "\n",
        "# Remove HTML tags using Beautiful Soup library\n",
        "soup=BeautifulSoup(r.text,'html5lib')\n",
        "print(soup.get_text())"
      ],
      "execution_count": 0,
      "outputs": [
        {
          "output_type": "stream",
          "text": [
            "\n",
            "            \n",
            "          \n",
            "        Hacker News\n",
            "        \n",
            "                  Hacker News\n",
            "              new | past | comments | ask | show | jobs | submit            \n",
            "                              login\n",
            "                          \n",
            "              \n",
            "\n",
            "              \n",
            "      1.      A16Z is registering as a financial advisor, renouncing its status as a VC (forbes.com)\n",
            "        215 points by zt 8 hours ago  | hide | 185 comments              \n",
            "      \n",
            "                \n",
            "      2.      Facebook Asking for Some New Users' Email Passwords (thedailybeast.com)\n",
            "        388 points by sharkweek 10 hours ago  | hide | 200 comments              \n",
            "      \n",
            "                \n",
            "      3.      Sweden Wants to Revive Europe’s Overnight Trains (citylab.com)\n",
            "        517 points by aaronbrethorst 15 hours ago  | hide | 216 comments              \n",
            "      \n",
            "                \n",
            "      4.      New year, same old plans (lighttable.com)\n",
            "        62 points by harperlee 5 hours ago  | hide | 19 comments              \n",
            "      \n",
            "                \n",
            "      5.      Ruby's Creed (metaredux.com)\n",
            "        132 points by rlue 8 hours ago  | hide | 55 comments              \n",
            "      \n",
            "                \n",
            "      6.      Show HN: Talkshow – Team videos in non-real-time (talkshow.team)\n",
            "        46 points by middle1 3 hours ago  | hide | 25 comments              \n",
            "      \n",
            "                \n",
            "      7.      25 Years Later: Interview with Linus Torvalds (linuxjournal.com)\n",
            "        173 points by axiomdata316 10 hours ago  | hide | 86 comments              \n",
            "      \n",
            "                \n",
            "      8.      Sci-Hub and Alexandra Basic Information (engineuring.wordpress.com)\n",
            "        345 points by stared 15 hours ago  | hide | 96 comments              \n",
            "      \n",
            "                \n",
            "      9.      Rare Persian manuscripts dating back to 13th century now online (loc.gov)\n",
            "        185 points by bookofjoe 12 hours ago  | hide | 37 comments              \n",
            "      \n",
            "                \n",
            "      10.      Dog and Cat Data (datafix.com.au)\n",
            "        6 points by eaguyhn 2 hours ago  | hide | discuss              \n",
            "      \n",
            "                \n",
            "      11.      A Go implementation of Poly1305 that makes sense (filippo.io)\n",
            "        135 points by pentestercrab 10 hours ago  | hide | 7 comments              \n",
            "      \n",
            "                \n",
            "      12.      Why Do Buses Bunch? (setosa.io)\n",
            "        256 points by elliekelly 14 hours ago  | hide | 129 comments              \n",
            "      \n",
            "                \n",
            "      13.      YOLO: Real-Time Object Detection (pjreddie.com)\n",
            "        278 points by headalgorithm 17 hours ago  | hide | 52 comments              \n",
            "      \n",
            "                \n",
            "      14.      From Show HN to Series D (segment.com)\n",
            "        332 points by fullung 18 hours ago  | hide | 47 comments              \n",
            "      \n",
            "                \n",
            "      15.      Monte Carlo instead of Alpha-Beta for chess programs? (chessbase.com)\n",
            "        52 points by S4M 8 hours ago  | hide | 10 comments              \n",
            "      \n",
            "                \n",
            "      16.      I tried creating a web browser, and Google blocked me (samuelmaddock.com)\n",
            "        1704 points by smaddock 21 hours ago  | hide | 541 comments              \n",
            "      \n",
            "                \n",
            "      17.      Symbolics Lisp: Using the DEC Alpha as a Programmable Micro-Engine (1993) [pdf] (withington.org)\n",
            "        61 points by kristianp 9 hours ago  | hide | 10 comments              \n",
            "      \n",
            "                \n",
            "      18.      Simplify Gmail: Bringing the Simplicity of Google Inbox to Gmail (simpl.fyi)\n",
            "        165 points by gmcabrita 14 hours ago  | hide | 57 comments              \n",
            "      \n",
            "                \n",
            "      19.      The Ticket Trap: Front to Back (propublica.org)\n",
            "        16 points by danso 2 hours ago  | hide | 1 comment              \n",
            "      \n",
            "                \n",
            "      20.      Averages Can Be Misleading: Try a Percentile (2014) (elastic.co)\n",
            "        173 points by donbox 18 hours ago  | hide | 47 comments              \n",
            "      \n",
            "                \n",
            "      21.      Who has the fastest website in F1? (jakearchibald.com)\n",
            "        199 points by anacleto 15 hours ago  | hide | 79 comments              \n",
            "      \n",
            "                \n",
            "      22.      World's deepest pool to open in Poland (cnn.com)\n",
            "        94 points by HillaryBriss 13 hours ago  | hide | 58 comments              \n",
            "      \n",
            "                \n",
            "      23.      Tanks Are Mighty Fine Things (1946) (imperialclub.com)\n",
            "        49 points by smacktoward 9 hours ago  | hide | 9 comments              \n",
            "      \n",
            "                \n",
            "      24.      Emoji are showing up as evidence in court more frequently (theverge.com)\n",
            "        61 points by nolawi89 11 hours ago  | hide | 32 comments              \n",
            "      \n",
            "                \n",
            "      25.      Decoding Photographs of the IBM 5100's Executable ROS (github.com)\n",
            "        25 points by mmastrac 7 hours ago  | hide | 6 comments              \n",
            "      \n",
            "                \n",
            "      26.      Implementing API Billing with Stripe (daily.co)\n",
            "        161 points by kwindla 18 hours ago  | hide | 72 comments              \n",
            "      \n",
            "                \n",
            "      27.      NVMe and an interesting technology change (utoronto.ca)\n",
            "        61 points by stargrave 6 hours ago  | hide | 33 comments              \n",
            "      \n",
            "                \n",
            "      28.      A once abandoned drug compound shows an ability to rebuild organs (scientificamerican.com)\n",
            "        119 points by LinuxBender 16 hours ago  | hide | 48 comments              \n",
            "      \n",
            "                \n",
            "      29.      The Mobster in Our Midst (freep.com)\n",
            "        19 points by rmason 7 hours ago  | hide | 4 comments              \n",
            "      \n",
            "                \n",
            "      30.      Why India's rich don't give their money away (bbc.com)\n",
            "        123 points by happy-go-lucky 9 hours ago  | hide | 46 comments              \n",
            "      \n",
            "            More\n",
            "  \n",
            "\n",
            "Guidelines\n",
            "        | FAQ\n",
            "        | Support\n",
            "        | API\n",
            "        | Security\n",
            "        | Lists\n",
            "        | Bookmarklet\n",
            "        | Legal\n",
            "        | Apply to YC\n",
            "        | ContactSearch:\n",
            "          \n",
            "            \n",
            "      \n",
            "  \n",
            "\n"
          ],
          "name": "stdout"
        }
      ]
    },
    {
      "metadata": {
        "id": "qloRdD_CAHPt",
        "colab_type": "code",
        "outputId": "e505aea7-8bcb-477b-e082-d451574bd3e7",
        "colab": {
          "base_uri": "https://localhost:8080/",
          "height": 73
        }
      },
      "cell_type": "code",
      "source": [
        "# Find all articles\n",
        "summaries=soup.find_all('tr',class_='athing')\n",
        "summaries[0]"
      ],
      "execution_count": 0,
      "outputs": [
        {
          "output_type": "execute_result",
          "data": {
            "text/plain": [
              "<tr class=\"athing\" id=\"19560515\">\n",
              "      <td align=\"right\" class=\"title\" valign=\"top\"><span class=\"rank\">1.</span></td>      <td class=\"votelinks\" valign=\"top\"><center><a href=\"vote?id=19560515&amp;how=up&amp;goto=news\" id=\"up_19560515\"><div class=\"votearrow\" title=\"upvote\"></div></a></center></td><td class=\"title\"><a class=\"storylink\" href=\"https://www.forbes.com/sites/alexkonrad/2019/04/02/andreessen-horowitz-is-blowing-up-the-venture-capital-model-again/\">A16Z is registering as a financial advisor, renouncing its status as a VC</a><span class=\"sitebit comhead\"> (<a href=\"from?site=forbes.com\"><span class=\"sitestr\">forbes.com</span></a>)</span></td></tr>"
            ]
          },
          "metadata": {
            "tags": []
          },
          "execution_count": 6
        }
      ]
    },
    {
      "metadata": {
        "id": "oWP7RHt7AkZy",
        "colab_type": "code",
        "outputId": "46834a4e-3614-47d8-c499-78de59e10e01",
        "colab": {
          "base_uri": "https://localhost:8080/",
          "height": 35
        }
      },
      "cell_type": "code",
      "source": [
        "# Extract title\n",
        "summaries[0].find(\"a\", class_=\"storylink\").get_text().strip()"
      ],
      "execution_count": 0,
      "outputs": [
        {
          "output_type": "execute_result",
          "data": {
            "text/plain": [
              "'A16Z is registering as a financial advisor, renouncing its status as a VC'"
            ]
          },
          "metadata": {
            "tags": []
          },
          "execution_count": 7
        }
      ]
    },
    {
      "metadata": {
        "id": "lJanlxFzB_lI",
        "colab_type": "code",
        "outputId": "3c0146e3-e1a3-47b9-e1de-c6a9fdeb8d26",
        "colab": {
          "base_uri": "https://localhost:8080/",
          "height": 53
        }
      },
      "cell_type": "code",
      "source": [
        "# Find all articles, extract titles\n",
        "articles = []\n",
        "summaries = soup.find_all(\"tr\", class_=\"athing\")\n",
        "for summary in summaries:\n",
        "    title = summary.find(\"a\", class_=\"storylink\").get_text().strip()\n",
        "    articles.append((title))\n",
        "\n",
        "print(len(articles), \"Article summaries found. Sample:\")\n",
        "print(articles[0])"
      ],
      "execution_count": 0,
      "outputs": [
        {
          "output_type": "stream",
          "text": [
            "30 Article summaries found. Sample:\n",
            "A16Z is registering as a financial advisor, renouncing its status as a VC\n"
          ],
          "name": "stdout"
        }
      ]
    },
    {
      "metadata": {
        "id": "wynEpMJmIzmK",
        "colab_type": "text"
      },
      "cell_type": "markdown",
      "source": [
        "**Normalization**"
      ]
    },
    {
      "metadata": {
        "id": "ZQ4q4iAUJAw8",
        "colab_type": "text"
      },
      "cell_type": "markdown",
      "source": [
        "**Case Normalization**"
      ]
    },
    {
      "metadata": {
        "id": "3ccasSsBIaaz",
        "colab_type": "code",
        "outputId": "30549e8b-9d9d-41ea-b5f0-a6fc21eff1c6",
        "colab": {
          "base_uri": "https://localhost:8080/",
          "height": 55
        }
      },
      "cell_type": "code",
      "source": [
        "# Sample text\n",
        "text = \"The first time you see The Second Renaissance it may look boring. Look at it at least twice and definitely watch part 2. It will change your view of the matrix. Are the human people the ones who started the war ? Is AI a bad thing ?\"\n",
        "\n",
        "text = text.lower() \n",
        "print(text)"
      ],
      "execution_count": 0,
      "outputs": [
        {
          "output_type": "stream",
          "text": [
            "the first time you see the second renaissance it may look boring. look at it at least twice and definitely watch part 2. it will change your view of the matrix. are the human people the ones who started the war ? is ai a bad thing ?\n"
          ],
          "name": "stdout"
        }
      ]
    },
    {
      "metadata": {
        "id": "9O2ZTJyTJEAA",
        "colab_type": "text"
      },
      "cell_type": "markdown",
      "source": [
        "**Punctuation Removal**"
      ]
    },
    {
      "metadata": {
        "id": "GCRcKZxjJHjO",
        "colab_type": "code",
        "outputId": "f0681fde-7989-4536-9de5-dc9a74833fba",
        "colab": {
          "base_uri": "https://localhost:8080/",
          "height": 55
        }
      },
      "cell_type": "code",
      "source": [
        "import re\n",
        "\n",
        "# Remove punctuation characters\n",
        "text = re.sub(r\"[^a-zA-Z0-9]\", \" \", text) \n",
        "print(text)"
      ],
      "execution_count": 0,
      "outputs": [
        {
          "output_type": "stream",
          "text": [
            "the first time you see the second renaissance it may look boring  look at it at least twice and definitely watch part 2  it will change your view of the matrix  are the human people the ones who started the war   is ai a bad thing  \n"
          ],
          "name": "stdout"
        }
      ]
    },
    {
      "metadata": {
        "id": "l1Dn2PRiJN8V",
        "colab_type": "text"
      },
      "cell_type": "markdown",
      "source": [
        "**Tokenization**"
      ]
    },
    {
      "metadata": {
        "id": "aP46BIZHJPsw",
        "colab_type": "code",
        "outputId": "ba4722a8-2df0-4fc7-aacd-5c91b5d6a0d2",
        "colab": {
          "base_uri": "https://localhost:8080/",
          "height": 55
        }
      },
      "cell_type": "code",
      "source": [
        "# Split text into tokens (words)\n",
        "words = text.split()\n",
        "print(words)"
      ],
      "execution_count": 0,
      "outputs": [
        {
          "output_type": "stream",
          "text": [
            "['the', 'first', 'time', 'you', 'see', 'the', 'second', 'renaissance', 'it', 'may', 'look', 'boring', 'look', 'at', 'it', 'at', 'least', 'twice', 'and', 'definitely', 'watch', 'part', '2', 'it', 'will', 'change', 'your', 'view', 'of', 'the', 'matrix', 'are', 'the', 'human', 'people', 'the', 'ones', 'who', 'started', 'the', 'war', 'is', 'ai', 'a', 'bad', 'thing']\n"
          ],
          "name": "stdout"
        }
      ]
    },
    {
      "metadata": {
        "id": "GuapRkvHJkfW",
        "colab_type": "text"
      },
      "cell_type": "markdown",
      "source": [
        "**NLTK: Natural Language ToolKit**"
      ]
    },
    {
      "metadata": {
        "id": "LcHoc8FdJlbQ",
        "colab_type": "code",
        "colab": {}
      },
      "cell_type": "code",
      "source": [
        "import os\n",
        "import nltk\n",
        "nltk.data.path.append(os.path.join(os.getcwd(),'AIND-NLP', \"nltk_data\"))"
      ],
      "execution_count": 0,
      "outputs": []
    },
    {
      "metadata": {
        "id": "xcZRm_UoKOrW",
        "colab_type": "code",
        "outputId": "5abbefeb-3912-44a0-cd2e-b5260704f9aa",
        "colab": {
          "base_uri": "https://localhost:8080/",
          "height": 55
        }
      },
      "cell_type": "code",
      "source": [
        "# Another sample text\n",
        "text = \"Dr. Smith graduated from the University of Washington. He later started an analytics firm called Lux, which catered to enterprise customers.\"\n",
        "print(text)"
      ],
      "execution_count": 0,
      "outputs": [
        {
          "output_type": "stream",
          "text": [
            "Dr. Smith graduated from the University of Washington. He later started an analytics firm called Lux, which catered to enterprise customers.\n"
          ],
          "name": "stdout"
        }
      ]
    },
    {
      "metadata": {
        "id": "aKSD9sLRK03z",
        "colab_type": "code",
        "outputId": "5690e3d7-2654-4792-be86-7b66ab26539a",
        "colab": {
          "base_uri": "https://localhost:8080/",
          "height": 55
        }
      },
      "cell_type": "code",
      "source": [
        "from nltk.tokenize import word_tokenize\n",
        "\n",
        "# Split text into words using NLTK\n",
        "words = word_tokenize(text)\n",
        "print(words)"
      ],
      "execution_count": 0,
      "outputs": [
        {
          "output_type": "stream",
          "text": [
            "['Dr.', 'Smith', 'graduated', 'from', 'the', 'University', 'of', 'Washington', '.', 'He', 'later', 'started', 'an', 'analytics', 'firm', 'called', 'Lux', ',', 'which', 'catered', 'to', 'enterprise', 'customers', '.']\n"
          ],
          "name": "stdout"
        }
      ]
    }
  ]
}